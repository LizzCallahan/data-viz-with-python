{
 "cells": [
  {
   "cell_type": "markdown",
   "id": "fdf2a936",
   "metadata": {},
   "source": [
    "# Data Visualization with Python Studio\n",
    "\n",
    "At this point, you should already have connected with the rest of your group to divide up who is going to do what. Use this notebook to create your visualizations.\n",
    "\n",
    "Below we set up the dataframe with the Goodreads dataset for you. If you run this cell, you may get an error that some lines were skipped. Do not worry about that! For this studio, we want to focus on creating an effective"
   ]
  },
  {
   "cell_type": "code",
   "execution_count": 6,
   "id": "577e3a46",
   "metadata": {},
   "outputs": [
    {
     "name": "stderr",
     "output_type": "stream",
     "text": [
      "C:\\ProgramData\\Anaconda3\\lib\\site-packages\\IPython\\core\\interactiveshell.py:3444: FutureWarning: The error_bad_lines argument has been deprecated and will be removed in a future version.\n",
      "\n",
      "\n",
      "  exec(code_obj, self.user_global_ns, self.user_ns)\n",
      "b'Skipping line 3350: expected 12 fields, saw 13\\nSkipping line 4704: expected 12 fields, saw 13\\nSkipping line 5879: expected 12 fields, saw 13\\nSkipping line 8981: expected 12 fields, saw 13\\n'\n"
     ]
    }
   ],
   "source": [
    "# Here is the setup of the dataframe. Feel free to use .info() or .head() to get a better understanding of what is inside the dataframe!\n",
    "\n",
    "import pandas as pd\n",
    "import numpy as np\n",
    "import seaborn as sns\n",
    "import matplotlib.pyplot as plt\n",
    "from matplotlib import style\n",
    "\n",
    "df = pd.read_csv(\"books.csv\", error_bad_lines=False)\n",
    "\n",
    "years = []\n",
    "\n",
    "for y in df['publication_date']:\n",
    "    date = y.split(\"/\")\n",
    "    years.append(date[2])\n",
    "\n",
    "df[\"year\"] = years\n"
   ]
  },
  {
   "cell_type": "markdown",
   "id": "5e44cc5e",
   "metadata": {},
   "source": [
    "With your dataframe set up, time to start creating visualizations!"
   ]
  },
  {
   "cell_type": "code",
   "execution_count": 2,
   "id": "82064115",
   "metadata": {
    "scrolled": true
   },
   "outputs": [
    {
     "data": {
      "text/plain": [
       "Index(['bookID', 'title', 'authors', 'average_rating', 'isbn', 'isbn13',\n",
       "       'language_code', '  num_pages', 'ratings_count', 'text_reviews_count',\n",
       "       'publication_date', 'publisher', 'year'],\n",
       "      dtype='object')"
      ]
     },
     "execution_count": 2,
     "metadata": {},
     "output_type": "execute_result"
    }
   ],
   "source": [
    "# Use your Python skills to create a visualization here.\n",
    "#Text ratings count vs reviews count in matplotlib\n",
    "df.columns"
   ]
  },
  {
   "cell_type": "code",
   "execution_count": 3,
   "id": "6e5fac9c",
   "metadata": {},
   "outputs": [
    {
     "data": {
      "text/plain": [
       "less than 100,000       10771\n",
       "100,000 to 200,000        175\n",
       "200,000 to 300,000         66\n",
       "1,000,000 or more          30\n",
       "300,000 to 400,000         29\n",
       "600,000 to 700,000         14\n",
       "400,000 to 500,000         13\n",
       "500,000 to 600,000         13\n",
       "700,000 to 800,000          6\n",
       "800,000 to 900,000          3\n",
       "900,000 to 1,000,000        3\n",
       "Name: ratings_group, dtype: int64"
      ]
     },
     "execution_count": 3,
     "metadata": {},
     "output_type": "execute_result"
    }
   ],
   "source": [
    "def ratings_group (series):\n",
    "    if series < 100000:\n",
    "        return \"less than 100,000\"\n",
    "    elif 100000 <= series < 200000:\n",
    "        return \"100,000 to 200,000\"\n",
    "    elif 200000 <= series < 300000:\n",
    "        return \"200,000 to 300,000\"\n",
    "    elif 300000 <= series < 400000:\n",
    "        return \"300,000 to 400,000\"\n",
    "    elif 400000 <= series < 500000:\n",
    "        return \"400,000 to 500,000\"\n",
    "    elif 500000 <= series < 600000:\n",
    "        return \"500,000 to 600,000\"\n",
    "    elif 600000 <= series < 700000:\n",
    "        return \"600,000 to 700,000\"    \n",
    "    elif 700000 <= series < 800000:\n",
    "        return \"700,000 to 800,000\"\n",
    "    elif 800000 <= series < 900000:\n",
    "        return \"800,000 to 900,000\"\n",
    "    elif 900000 <= series < 1000000:\n",
    "        return \"900,000 to 1,000,000\"\n",
    "    elif 1000000 <= series:\n",
    "        return \"1,000,000 or more\"\n",
    "\n",
    "df[\"ratings_group\"] = df.ratings_count.apply(ratings_group)\n",
    "df['ratings_group'].value_counts()"
   ]
  },
  {
   "cell_type": "code",
   "execution_count": 4,
   "id": "56bbf880",
   "metadata": {},
   "outputs": [
    {
     "data": {
      "text/html": [
       "<div>\n",
       "<style scoped>\n",
       "    .dataframe tbody tr th:only-of-type {\n",
       "        vertical-align: middle;\n",
       "    }\n",
       "\n",
       "    .dataframe tbody tr th {\n",
       "        vertical-align: top;\n",
       "    }\n",
       "\n",
       "    .dataframe thead th {\n",
       "        text-align: right;\n",
       "    }\n",
       "</style>\n",
       "<table border=\"1\" class=\"dataframe\">\n",
       "  <thead>\n",
       "    <tr style=\"text-align: right;\">\n",
       "      <th></th>\n",
       "      <th>bookID</th>\n",
       "      <th>title</th>\n",
       "      <th>authors</th>\n",
       "      <th>average_rating</th>\n",
       "      <th>isbn</th>\n",
       "      <th>isbn13</th>\n",
       "      <th>language_code</th>\n",
       "      <th>num_pages</th>\n",
       "      <th>ratings_count</th>\n",
       "      <th>text_reviews_count</th>\n",
       "      <th>publication_date</th>\n",
       "      <th>publisher</th>\n",
       "      <th>year</th>\n",
       "      <th>ratings_group</th>\n",
       "    </tr>\n",
       "  </thead>\n",
       "  <tbody>\n",
       "    <tr>\n",
       "      <th>0</th>\n",
       "      <td>1</td>\n",
       "      <td>Harry Potter and the Half-Blood Prince (Harry ...</td>\n",
       "      <td>J.K. Rowling/Mary GrandPré</td>\n",
       "      <td>4.57</td>\n",
       "      <td>0439785960</td>\n",
       "      <td>9780439785969</td>\n",
       "      <td>eng</td>\n",
       "      <td>652</td>\n",
       "      <td>2095690</td>\n",
       "      <td>27591</td>\n",
       "      <td>9/16/2006</td>\n",
       "      <td>Scholastic Inc.</td>\n",
       "      <td>2006</td>\n",
       "      <td>1,000,000 or more</td>\n",
       "    </tr>\n",
       "    <tr>\n",
       "      <th>1</th>\n",
       "      <td>2</td>\n",
       "      <td>Harry Potter and the Order of the Phoenix (Har...</td>\n",
       "      <td>J.K. Rowling/Mary GrandPré</td>\n",
       "      <td>4.49</td>\n",
       "      <td>0439358078</td>\n",
       "      <td>9780439358071</td>\n",
       "      <td>eng</td>\n",
       "      <td>870</td>\n",
       "      <td>2153167</td>\n",
       "      <td>29221</td>\n",
       "      <td>9/1/2004</td>\n",
       "      <td>Scholastic Inc.</td>\n",
       "      <td>2004</td>\n",
       "      <td>1,000,000 or more</td>\n",
       "    </tr>\n",
       "    <tr>\n",
       "      <th>3</th>\n",
       "      <td>5</td>\n",
       "      <td>Harry Potter and the Prisoner of Azkaban (Harr...</td>\n",
       "      <td>J.K. Rowling/Mary GrandPré</td>\n",
       "      <td>4.56</td>\n",
       "      <td>043965548X</td>\n",
       "      <td>9780439655484</td>\n",
       "      <td>eng</td>\n",
       "      <td>435</td>\n",
       "      <td>2339585</td>\n",
       "      <td>36325</td>\n",
       "      <td>5/1/2004</td>\n",
       "      <td>Scholastic Inc.</td>\n",
       "      <td>2004</td>\n",
       "      <td>1,000,000 or more</td>\n",
       "    </tr>\n",
       "    <tr>\n",
       "      <th>23</th>\n",
       "      <td>34</td>\n",
       "      <td>The Fellowship of the Ring (The Lord of the Ri...</td>\n",
       "      <td>J.R.R. Tolkien</td>\n",
       "      <td>4.36</td>\n",
       "      <td>0618346252</td>\n",
       "      <td>9780618346257</td>\n",
       "      <td>eng</td>\n",
       "      <td>398</td>\n",
       "      <td>2128944</td>\n",
       "      <td>13670</td>\n",
       "      <td>9/5/2003</td>\n",
       "      <td>Houghton Mifflin Harcourt</td>\n",
       "      <td>2003</td>\n",
       "      <td>1,000,000 or more</td>\n",
       "    </tr>\n",
       "    <tr>\n",
       "      <th>284</th>\n",
       "      <td>865</td>\n",
       "      <td>The Alchemist</td>\n",
       "      <td>Paulo Coelho/Alan R. Clarke/Özdemir İnce</td>\n",
       "      <td>3.86</td>\n",
       "      <td>0061122416</td>\n",
       "      <td>9780061122415</td>\n",
       "      <td>eng</td>\n",
       "      <td>197</td>\n",
       "      <td>1631221</td>\n",
       "      <td>55843</td>\n",
       "      <td>5/1/1993</td>\n",
       "      <td>HarperCollins</td>\n",
       "      <td>1993</td>\n",
       "      <td>1,000,000 or more</td>\n",
       "    </tr>\n",
       "  </tbody>\n",
       "</table>\n",
       "</div>"
      ],
      "text/plain": [
       "     bookID                                              title  \\\n",
       "0         1  Harry Potter and the Half-Blood Prince (Harry ...   \n",
       "1         2  Harry Potter and the Order of the Phoenix (Har...   \n",
       "3         5  Harry Potter and the Prisoner of Azkaban (Harr...   \n",
       "23       34  The Fellowship of the Ring (The Lord of the Ri...   \n",
       "284     865                                      The Alchemist   \n",
       "\n",
       "                                      authors  average_rating        isbn  \\\n",
       "0                  J.K. Rowling/Mary GrandPré            4.57  0439785960   \n",
       "1                  J.K. Rowling/Mary GrandPré            4.49  0439358078   \n",
       "3                  J.K. Rowling/Mary GrandPré            4.56  043965548X   \n",
       "23                             J.R.R. Tolkien            4.36  0618346252   \n",
       "284  Paulo Coelho/Alan R. Clarke/Özdemir İnce            3.86  0061122416   \n",
       "\n",
       "            isbn13 language_code    num_pages  ratings_count  \\\n",
       "0    9780439785969           eng          652        2095690   \n",
       "1    9780439358071           eng          870        2153167   \n",
       "3    9780439655484           eng          435        2339585   \n",
       "23   9780618346257           eng          398        2128944   \n",
       "284  9780061122415           eng          197        1631221   \n",
       "\n",
       "     text_reviews_count publication_date                  publisher  year  \\\n",
       "0                 27591        9/16/2006            Scholastic Inc.  2006   \n",
       "1                 29221         9/1/2004            Scholastic Inc.  2004   \n",
       "3                 36325         5/1/2004            Scholastic Inc.  2004   \n",
       "23                13670         9/5/2003  Houghton Mifflin Harcourt  2003   \n",
       "284               55843         5/1/1993              HarperCollins  1993   \n",
       "\n",
       "         ratings_group  \n",
       "0    1,000,000 or more  \n",
       "1    1,000,000 or more  \n",
       "3    1,000,000 or more  \n",
       "23   1,000,000 or more  \n",
       "284  1,000,000 or more  "
      ]
     },
     "execution_count": 4,
     "metadata": {},
     "output_type": "execute_result"
    }
   ],
   "source": [
    "df.drop(df[df['ratings_count'] < 1000000].index, inplace = True)\n",
    "df.head()"
   ]
  },
  {
   "cell_type": "code",
   "execution_count": 15,
   "id": "4396520d",
   "metadata": {},
   "outputs": [
    {
     "data": {
      "image/png": "[encoded data removed]",
      "text/plain": [
       "<Figure size 640x480 with 1 Axes>"
      ]
     },
     "metadata": {},
     "output_type": "display_data"
    }
   ],
   "source": [
    "plt.style.use(\"classic\")\n",
    "fig2 = plt.plot(df['ratings_count'], label = 'Ratings')\n",
    "plt.plot(df['text_reviews_count'], label = 'Text Reviews')\n",
    "plt.legend(loc = 'lower right', fontsize = 12)\n",
    "plt.xticks(rotation = 90, color = 'black')\n",
    "plt.yticks(color = 'black')\n",
    "plt.title('Ratings vs Text Reviews',color = 'black')\n",
    "plt.xlabel('Number of Text Reviews',color = 'black')\n",
    "plt.ylabel('Number of Ratings',color = 'black')\n",
    "plt.show()"
   ]
  },
  {
   "cell_type": "code",
   "execution_count": 10,
   "id": "41294d67",
   "metadata": {},
   "outputs": [
    {
     "data": {
      "text/plain": [
       "<AxesSubplot:xlabel='text_reviews_count', ylabel='ratings_count'>"
      ]
     },
     "execution_count": 10,
     "metadata": {},
     "output_type": "execute_result"
    },
    {
     "data": {
      "image/png": "[encoded data removed]",
      "text/plain": [
       "<Figure size 432x432 with 1 Axes>"
      ]
     },
     "metadata": {},
     "output_type": "display_data"
    }
   ],
   "source": [
    "# Use your Python skills to create a visualization here.\n",
    "#Text ratings count vs reviews count in seaborn\n",
    "#['bookID', 'title', 'authors', 'average_rating', 'isbn', 'isbn13',\n",
    "       #'language_code', '  num_pages', 'ratings_count', 'text_reviews_count',\n",
    "       #'publication_date', 'publisher', 'year'],\n",
    "fig, ax = plt.subplots(figsize=(6, 6))\n",
    "sns.scatterplot(\n",
    "    data=df,\n",
    "    x=\"text_reviews_count\",\n",
    "    y=\"ratings_count\",\n",
    "    color=\"k\",\n",
    "    ax=ax,\n",
    ")\n"
   ]
  },
  {
   "cell_type": "code",
   "execution_count": 17,
   "id": "c1a7cb69",
   "metadata": {},
   "outputs": [
    {
     "data": {
      "text/plain": [
       "after 2000      7698\n",
       "1980 to 2000    3099\n",
       "1960 to 1980     276\n",
       "before 1960       50\n",
       "Name: year range, dtype: int64"
      ]
     },
     "execution_count": 17,
     "metadata": {},
     "output_type": "execute_result"
    }
   ],
   "source": [
    "def year_group (series):\n",
    "    if series < 1960:\n",
    "        return \"before 1960\"\n",
    "    elif 1960 <= series < 1980:\n",
    "        return \"1960 to 1980\"\n",
    "    elif 1980 <= series < 2000:\n",
    "        return \"1980 to 2000\"\n",
    "    elif 2000 <= series:\n",
    "        return \"after 2000\"\n",
    "    \n",
    "df['year'] = df['year'].astype(int)\n",
    "df[\"year range\"] = df.year.apply(year_group)\n",
    "df['year range'].value_counts()"
   ]
  },
  {
   "cell_type": "code",
   "execution_count": null,
   "id": "10a9e670",
   "metadata": {},
   "outputs": [],
   "source": []
  }
 ],
 "metadata": {
  "interpreter": {
   "hash": "ad2bdc8ecc057115af97d19610ffacc2b4e99fae6737bb82f5d7fb13d2f2c186"
  },
  "kernelspec": {
   "display_name": "Python 3 (ipykernel)",
   "language": "python",
   "name": "python3"
  },
  "language_info": {
   "codemirror_mode": {
    "name": "ipython",
    "version": 3
   },
   "file_extension": ".py",
   "mimetype": "text/x-python",
   "name": "python",
   "nbconvert_exporter": "python",
   "pygments_lexer": "ipython3",
   "version": "3.9.7"
  }
 },
 "nbformat": 4,
 "nbformat_minor": 5
}
